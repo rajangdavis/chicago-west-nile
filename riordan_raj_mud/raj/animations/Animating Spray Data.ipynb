{
 "cells": [
  {
   "cell_type": "code",
   "execution_count": 58,
   "metadata": {},
   "outputs": [],
   "source": [
    "import numpy as np\n",
    "import pandas as pd\n",
    "import matplotlib.pyplot as plt\n",
    "import matplotlib.animation as animation\n",
    "from IPython.display import HTML\n",
    "\n",
    "spray = pd.read_csv(\"../dsi5/project-4/data/spray.csv\").drop_duplicates().dropna()\n",
    "train = pd.read_csv(\"../dsi5/project-4/data/train.csv\").drop_duplicates().dropna()\n",
    "mapdata = np.loadtxt(\"../dsi5/project-4/data/mapdata_copyright_openstreetmap_contributors.txt\")"
   ]
  },
  {
   "cell_type": "code",
   "execution_count": 59,
   "metadata": {},
   "outputs": [],
   "source": [
    "spray.drop(columns=[\"Time\"], inplace=True)\n",
    "spray.Date = pd.to_datetime(spray.Date)\n",
    "spray.set_index('Date',inplace=True)"
   ]
  },
  {
   "cell_type": "code",
   "execution_count": 62,
   "metadata": {},
   "outputs": [
    {
     "name": "stderr",
     "output_type": "stream",
     "text": [
      "C:\\Program Files\\Anaconda3\\lib\\site-packages\\pandas\\core\\generic.py:4405: SettingWithCopyWarning: \n",
      "A value is trying to be set on a copy of a slice from a DataFrame.\n",
      "Try using .loc[row_indexer,col_indexer] = value instead\n",
      "\n",
      "See the caveats in the documentation: http://pandas.pydata.org/pandas-docs/stable/indexing.html#indexing-view-versus-copy\n",
      "  self[name] = value\n",
      "C:\\Program Files\\Anaconda3\\lib\\site-packages\\ipykernel_launcher.py:5: SettingWithCopyWarning: \n",
      "A value is trying to be set on a copy of a slice from a DataFrame.\n",
      "Try using .loc[row_indexer,col_indexer] = value instead\n",
      "\n",
      "See the caveats in the documentation: http://pandas.pydata.org/pandas-docs/stable/indexing.html#indexing-view-versus-copy\n",
      "  \"\"\"\n"
     ]
    }
   ],
   "source": [
    "mosquitos = train[['Longitude', 'Latitude','NumMosquitos','Date']];\n",
    "mosquitos.Date = pd.to_datetime(mosquitos.Date);\n",
    "mosquitos_counts = mosquitos.groupby('Date')['NumMosquitos'].sum();\n",
    "mosquitos.set_index(\"Date\", inplace=True);\n",
    "mosquitos[\"Counts\"] = mosquitos_counts"
   ]
  },
  {
   "cell_type": "code",
   "execution_count": 63,
   "metadata": {},
   "outputs": [],
   "source": [
    "west_nile = train[train['WnvPresent'] ==1 ][['Longitude', 'Latitude',\"Date\",\"WnvPresent\"]]\n",
    "west_nile.Date = pd.to_datetime(west_nile.Date)\n",
    "west_nile_counts = west_nile.groupby(['Date'])['WnvPresent'].sum()\n",
    "west_nile.set_index(\"Date\", inplace=True)\n",
    "west_nile[\"Counts\"] = west_nile_counts"
   ]
  },
  {
   "cell_type": "code",
   "execution_count": 64,
   "metadata": {},
   "outputs": [],
   "source": [
    "# Weather\n",
    "# fig, axarr = plt.subplots(nrows = 1, ncols = len(models), figsize=(24, 7))"
   ]
  },
  {
   "cell_type": "code",
   "execution_count": 65,
   "metadata": {},
   "outputs": [],
   "source": [
    "dates = list(map(lambda x: str(x).replace(\" 00:00:00\",\"\"), sorted(list(set(list(spray.index) + list(mosquitos.index) + list(west_nile.index))))))"
   ]
  },
  {
   "cell_type": "code",
   "execution_count": null,
   "metadata": {
    "scrolled": false
   },
   "outputs": [],
   "source": [
    "# Need to create unique years, months, days dates\n",
    "# to loop through like a small clock\n",
    "years, months, days = [sorted(list(set(map(lambda x: x.split(\"-\")[i], dates)))) for i in range(0,3)]\n",
    "\n",
    "ims = []\n",
    "\n",
    "fig = plt.figure(figsize=(10,14))\n",
    "\n",
    "for year in years:\n",
    "    for month in months[3:6]:\n",
    "        for day in days[8:12]:\n",
    "            # Skip \"31\" for June and September\n",
    "            # Otherwise we will be out of bounds\n",
    "            if day == \"31\" and (month == \"06\" or month == \"09\"):\n",
    "                continue\n",
    "            # I could have done these in separate loops\n",
    "            # But I was afraid that would create three separate animations\n",
    "            # So the code has a lot of duplication, sorry...\n",
    "            spray_subset = spray[spray.index <=f\"{year}-{month}-{day}\"]\n",
    "            spray_mask = (spray_subset['Longitude'] >= -88.0)\n",
    "            spray_locations = spray_subset[spray_mask][['Longitude', 'Latitude']].dropna().values\n",
    "            \n",
    "            mosquitos_subset = mosquitos[mosquitos.index <=f\"{year}-{month}-{day}\"]\n",
    "            mosquitos_locations = mosquitos_subset[['Longitude', 'Latitude','NumMosquitos']].dropna().values\n",
    "            \n",
    "            west_nile_subset = west_nile[west_nile.index <=f\"{year}-{month}-{day}\"]\n",
    "            west_nile_locations = west_nile_subset[['Longitude', 'Latitude','WnvPresent']].dropna().values\n",
    "        \n",
    "            aspect = mapdata.shape[0] * 1.0 / mapdata.shape[1]\n",
    "            lon_lat_box = (-88, -87.5, 41.6, 42.1)\n",
    "            plt.imshow(mapdata, \n",
    "                cmap=plt.get_cmap('gray'), \n",
    "                extent=lon_lat_box, \n",
    "                aspect=aspect,\n",
    "                animated=True\n",
    "            )\n",
    "            plt.scatter(spray_locations[:,0], spray_locations[:,1], marker='x', color=\"blue\")\n",
    "            plt.scatter(mosquitos_locations[:,0], mosquitos_locations[:,1], marker='o', color=\"orange\", s=mosquitos_locations[:,2]**2)\n",
    "            ims.append([plt.scatter(west_nile_locations[:,0], west_nile_locations[:,1], marker='*', color=\"red\", s=west_nile_locations[:,2]*10)])\n",
    "\n",
    "ani = animation.ArtistAnimation(fig, ims, interval=50, blit=True)\n",
    "\n",
    "ani.save('./spray_mosquitos_wnv.mp4')\n",
    "\n",
    "HTML(ani.to_html5_video())"
   ]
  }
 ],
 "metadata": {
  "kernelspec": {
   "display_name": "Python 3",
   "language": "python",
   "name": "python3"
  },
  "language_info": {
   "codemirror_mode": {
    "name": "ipython",
    "version": 3
   },
   "file_extension": ".py",
   "mimetype": "text/x-python",
   "name": "python",
   "nbconvert_exporter": "python",
   "pygments_lexer": "ipython3",
   "version": "3.6.6"
  }
 },
 "nbformat": 4,
 "nbformat_minor": 2
}
