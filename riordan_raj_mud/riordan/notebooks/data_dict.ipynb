{
 "cells": [
  {
   "cell_type": "markdown",
   "metadata": {},
   "source": [
    "# Making a Data Dictionary"
   ]
  },
  {
   "cell_type": "markdown",
   "metadata": {},
   "source": [
    "### We want to make a data dictionary in pandas to classify, define and give the datatype for each of the features that we'll use during modeling."
   ]
  },
  {
   "cell_type": "code",
   "execution_count": 1,
   "metadata": {},
   "outputs": [],
   "source": [
    "import pandas as pd"
   ]
  },
  {
   "cell_type": "markdown",
   "metadata": {},
   "source": [
    "We'll first set up our columns and rows, and then fill in the data afterwards."
   ]
  },
  {
   "cell_type": "code",
   "execution_count": 2,
   "metadata": {},
   "outputs": [],
   "source": [
    "Columns = ['Category','Description', 'Datatype']\n",
    "Names= ['Address', 'AddressAccuracy','Heat', 'Heat_roll_28', 'Cool', 'PrecipTotal',\n",
    "       'PrecipTotal_roll', 'WetBulb', 'Tmin', \n",
    "       'Tmin_roll', 'Tmax', 'Tmax_roll', 'Tavg', \n",
    "       'Depart', 'DewPoint', 'DewPoint_roll', 'Sunrise',\n",
    "       'Sunset', 'Depth', 'Water1', 'SnowFall', \n",
    "       'StnPressure', 'SeaLevel', 'ResultSpeed', \n",
    "       'ResultSpeed_roll', 'ResultDir', 'AvgSpeed', \n",
    "       'Date', 'Street', 'Trap', 'Lat_int', 'Long_int',\n",
    "       'Species', 'Block']\n",
    "data_dict= pd.DataFrame(columns= Columns, index= Names)"
   ]
  },
  {
   "cell_type": "markdown",
   "metadata": {},
   "source": [
    "We've set 'names' to be our index. We want to alphabetize this in order to make it easier to read:"
   ]
  },
  {
   "cell_type": "code",
   "execution_count": 3,
   "metadata": {},
   "outputs": [],
   "source": [
    "data_dict.sort_index(inplace=True)"
   ]
  },
  {
   "cell_type": "markdown",
   "metadata": {},
   "source": [
    "Now we'll go in and fill all of those rows/columns:"
   ]
  },
  {
   "cell_type": "code",
   "execution_count": 4,
   "metadata": {},
   "outputs": [],
   "source": [
    "data_dict.loc['AvgSpeed']['Category']='Weather'\n",
    "data_dict.loc['AvgSpeed']['Description']= 'Daily average wind speed (MPH)'\n",
    "data_dict.loc['AvgSpeed']['Datatype'] = 'int'"
   ]
  },
  {
   "cell_type": "code",
   "execution_count": 5,
   "metadata": {},
   "outputs": [],
   "source": [
    "data_dict.loc['Block']['Category']='Spatial/Temporal'\n",
    "data_dict.loc['Block']['Description']= 'Aereal description, related to lat/long'\n",
    "data_dict.loc['Block']['Datatype'] = 'int'"
   ]
  },
  {
   "cell_type": "code",
   "execution_count": 6,
   "metadata": {},
   "outputs": [],
   "source": [
    "data_dict.loc['Cool']['Category']='Weather'\n",
    "data_dict.loc['Cool']['Description']= 'Departure (in degrees) from 65 degree fahrenheit baseline'\n",
    "data_dict.loc['Cool']['Datatype'] = 'int'"
   ]
  },
  {
   "cell_type": "code",
   "execution_count": 7,
   "metadata": {},
   "outputs": [],
   "source": [
    "data_dict.loc['Date']['Category']='Spatial/Temporal'\n",
    "data_dict.loc['Date']['Description']= 'Date in format YYYY-MM-DD)'\n",
    "data_dict.loc['Date']['Datatype'] = 'datetime'"
   ]
  },
  {
   "cell_type": "code",
   "execution_count": 8,
   "metadata": {},
   "outputs": [],
   "source": [
    "data_dict.loc['Depart']['Category']='Weather'\n",
    "data_dict.loc['Depart']['Description']= 'Temp departure from historical normal'\n",
    "data_dict.loc['Depart']['Datatype'] = 'float'"
   ]
  },
  {
   "cell_type": "code",
   "execution_count": 9,
   "metadata": {},
   "outputs": [],
   "source": [
    "data_dict.loc['DewPoint']['Category']='Weather'\n",
    "data_dict.loc['DewPoint']['Description']= 'The temperature at which water condensates. A factor in measuring relative humidity.'\n",
    "data_dict.loc['DewPoint']['Datatype'] = 'float'"
   ]
  },
  {
   "cell_type": "code",
   "execution_count": 10,
   "metadata": {},
   "outputs": [],
   "source": [
    "data_dict.loc['DewPoint_roll']['Category']='Weather'\n",
    "data_dict.loc['DewPoint_roll']['Description']= 'Rolling mean of dewpoint column'\n",
    "data_dict.loc['DewPoint_roll']['Datatype'] = 'float'"
   ]
  },
  {
   "cell_type": "code",
   "execution_count": 11,
   "metadata": {},
   "outputs": [],
   "source": [
    "data_dict.loc['Heat']['Category']='Weather'\n",
    "data_dict.loc['Heat']['Description']= 'Departure (in degrees) from 65 degree fahrenheit baseline'\n",
    "data_dict.loc['Heat']['Datatype'] = 'int'"
   ]
  },
  {
   "cell_type": "code",
   "execution_count": 12,
   "metadata": {},
   "outputs": [],
   "source": [
    "data_dict.loc['Heat_roll_28']['Category']='Weather'\n",
    "data_dict.loc['Heat_roll_28']['Description']= 'Rolling mean of \"heat\" column'\n",
    "data_dict.loc['Heat_roll_28']['Datatype'] = 'int'"
   ]
  },
  {
   "cell_type": "code",
   "execution_count": 13,
   "metadata": {},
   "outputs": [],
   "source": [
    "data_dict.loc['PrecipTotal']['Category']='Weather'\n",
    "data_dict.loc['PrecipTotal']['Description']= 'Amout of rainfall (in inches)'\n",
    "data_dict.loc['PrecipTotal']['Datatype'] = 'int'"
   ]
  },
  {
   "cell_type": "code",
   "execution_count": 14,
   "metadata": {},
   "outputs": [],
   "source": [
    "data_dict.loc['PrecipTotal_roll']['Category']='Weather'\n",
    "data_dict.loc['PrecipTotal_roll']['Description']= 'Rolling average rainfall'\n",
    "data_dict.loc['PrecipTotal_roll']['Datatype'] = 'int'"
   ]
  },
  {
   "cell_type": "code",
   "execution_count": 15,
   "metadata": {},
   "outputs": [],
   "source": [
    "data_dict.loc['WetBulb']['Category']='Weather'\n",
    "data_dict.loc['WetBulb']['Description']= 'Temperature recorded via wetbulb thermometer. Takes into account humidity and ambient temp. Similar to heat index.'\n",
    "data_dict.loc['WetBulb']['Datatype'] = 'int'"
   ]
  },
  {
   "cell_type": "code",
   "execution_count": 16,
   "metadata": {},
   "outputs": [],
   "source": [
    "data_dict.loc['Tmin']['Category']='Weather'\n",
    "data_dict.loc['Tmin']['Description']= 'Minimum temperature for a given day (fahrenheit)'\n",
    "data_dict.loc['Tmin']['Datatype'] = 'int'"
   ]
  },
  {
   "cell_type": "code",
   "execution_count": 17,
   "metadata": {},
   "outputs": [],
   "source": [
    "data_dict.loc['Tmin_roll']['Category']='Weather'\n",
    "data_dict.loc['Tmin_roll']['Description']= 'Minimum temperature rolling mean'\n",
    "data_dict.loc['Tmin_roll']['Datatype'] = 'int'"
   ]
  },
  {
   "cell_type": "code",
   "execution_count": 18,
   "metadata": {},
   "outputs": [],
   "source": [
    "data_dict.loc['Tmax']['Category']='Weather'\n",
    "data_dict.loc['Tmax']['Description']= 'Maximum temperature for a given day (fahrenheit)'\n",
    "data_dict.loc['Tmax']['Datatype'] = 'int'"
   ]
  },
  {
   "cell_type": "code",
   "execution_count": 19,
   "metadata": {},
   "outputs": [],
   "source": [
    "data_dict.loc['Tmax_roll']['Category']='Weather'\n",
    "data_dict.loc['Tmax_roll']['Description']= 'Maximum temperature rolling mean'\n",
    "data_dict.loc['Tmax_roll']['Datatype'] = 'int'"
   ]
  },
  {
   "cell_type": "code",
   "execution_count": 20,
   "metadata": {},
   "outputs": [],
   "source": [
    "data_dict.loc['Tavg']['Category']='Weather'\n",
    "data_dict.loc['Tavg']['Description']= 'Daily average temperature (farenheit)'\n",
    "data_dict.loc['Tavg']['Datatype'] = 'int'"
   ]
  },
  {
   "cell_type": "code",
   "execution_count": 21,
   "metadata": {},
   "outputs": [],
   "source": [
    "data_dict.loc['Sunrise']['Category']='Weather'\n",
    "data_dict.loc['Sunrise']['Description']= 'Time of sunrise (CST). Calculated, not observed.'\n",
    "data_dict.loc['Sunrise']['Datatype'] = 'int'"
   ]
  },
  {
   "cell_type": "code",
   "execution_count": 22,
   "metadata": {},
   "outputs": [],
   "source": [
    "data_dict.loc['Sunset']['Category']='Weather'\n",
    "data_dict.loc['Sunset']['Description']= 'Time of sunset (CST). Calculated, not observed.'\n",
    "data_dict.loc['Sunset']['Datatype'] = 'int'"
   ]
  },
  {
   "cell_type": "code",
   "execution_count": 23,
   "metadata": {},
   "outputs": [],
   "source": [
    "data_dict.loc['Depth']['Category']='Weather'\n",
    "data_dict.loc['Depth']['Description']= 'Depth of snowfall (in)'\n",
    "data_dict.loc['Depth']['Datatype'] = 'float'"
   ]
  },
  {
   "cell_type": "code",
   "execution_count": 24,
   "metadata": {},
   "outputs": [],
   "source": [
    "data_dict.loc['SnowFall']['Category']='Weather'\n",
    "data_dict.loc['SnowFall']['Description']= 'Depth of snowfall (in)'\n",
    "data_dict.loc['SnowFall']['Datatype'] = 'float'"
   ]
  },
  {
   "cell_type": "code",
   "execution_count": 25,
   "metadata": {},
   "outputs": [],
   "source": [
    "data_dict.loc['Water1']['Category']='Weather'\n",
    "data_dict.loc['Water1']['Description']= 'Depth of snowmelt (in)'\n",
    "data_dict.loc['Water1']['Datatype'] = 'float'"
   ]
  },
  {
   "cell_type": "code",
   "execution_count": 26,
   "metadata": {},
   "outputs": [],
   "source": [
    "data_dict.loc['StnPressure']['Category']='Weather'\n",
    "data_dict.loc['StnPressure']['Description']= 'Daily average atmospheric pressure (inches/HG)'\n",
    "data_dict.loc['StnPressure']['Datatype'] = 'float'"
   ]
  },
  {
   "cell_type": "code",
   "execution_count": 27,
   "metadata": {},
   "outputs": [],
   "source": [
    "data_dict.loc['SeaLevel']['Category']='Weather'\n",
    "data_dict.loc['SeaLevel']['Description']= 'Daily average sea level (feet)'\n",
    "data_dict.loc['SeaLevel']['Datatype'] = 'int'"
   ]
  },
  {
   "cell_type": "code",
   "execution_count": 28,
   "metadata": {},
   "outputs": [],
   "source": [
    "data_dict.loc['ResultSpeed']['Category']='Weather'\n",
    "data_dict.loc['ResultSpeed']['Description']= 'Resultant wind speed (vector sum of wind and direction)'\n",
    "data_dict.loc['ResultSpeed']['Datatype'] = 'float'"
   ]
  },
  {
   "cell_type": "code",
   "execution_count": 29,
   "metadata": {},
   "outputs": [],
   "source": [
    "data_dict.loc['ResultSpeed_roll']['Category']='Weather'\n",
    "data_dict.loc['ResultSpeed_roll']['Description']= 'Rolling mean of resultant wind speed'\n",
    "data_dict.loc['ResultSpeed_roll']['Datatype'] = 'float'"
   ]
  },
  {
   "cell_type": "code",
   "execution_count": 30,
   "metadata": {},
   "outputs": [],
   "source": [
    "data_dict.loc['ResultDir']['Category']='Weather'\n",
    "data_dict.loc['ResultDir']['Description']= 'Resultant wind direction (whole degress)'\n",
    "data_dict.loc['ResultDir']['Datatype'] = 'float'"
   ]
  },
  {
   "cell_type": "code",
   "execution_count": 31,
   "metadata": {},
   "outputs": [],
   "source": [
    "data_dict.loc['AvgSpeed']['Category']='Weather'\n",
    "data_dict.loc['AvgSpeed']['Description']= 'Daily average wind speed (MPH)'\n",
    "data_dict.loc['AvgSpeed']['Datatype'] = 'float'"
   ]
  },
  {
   "cell_type": "code",
   "execution_count": 32,
   "metadata": {},
   "outputs": [],
   "source": [
    "data_dict.loc['Street']['Category']='Spatial/Temporal'\n",
    "data_dict.loc['Street']['Description']= 'Street address of mosquito trap'\n",
    "data_dict.loc['Street']['Datatype'] = 'int'"
   ]
  },
  {
   "cell_type": "code",
   "execution_count": 33,
   "metadata": {},
   "outputs": [],
   "source": [
    "data_dict.loc['Trap']['Category']='Spatial/Temporal'\n",
    "data_dict.loc['Trap']['Description']= 'Mosquito trap id'\n",
    "data_dict.loc['Trap']['Datatype'] = 'str'"
   ]
  },
  {
   "cell_type": "code",
   "execution_count": 34,
   "metadata": {},
   "outputs": [],
   "source": [
    "data_dict.loc['Lat_int']['Category']='Spatial/Temporal'\n",
    "data_dict.loc['Lat_int']['Description']= 'Latitude of trap rounded to nearest integer'\n",
    "data_dict.loc['Lat_int']['Datatype'] = 'int'"
   ]
  },
  {
   "cell_type": "code",
   "execution_count": 35,
   "metadata": {},
   "outputs": [],
   "source": [
    "data_dict.loc['Long_int']['Category']='Spatial/Temporal'\n",
    "data_dict.loc['Long_int']['Description']= 'Longitude of trap rounded to nearest integer'\n",
    "data_dict.loc['Long_int']['Datatype'] = 'int'"
   ]
  },
  {
   "cell_type": "code",
   "execution_count": 36,
   "metadata": {},
   "outputs": [],
   "source": [
    "data_dict.loc['Species']['Category']='Spatial/Temporal'\n",
    "data_dict.loc['Species']['Description']= 'Species of mosquito'\n",
    "data_dict.loc['Species']['Datatype'] = 'str'"
   ]
  },
  {
   "cell_type": "code",
   "execution_count": 37,
   "metadata": {},
   "outputs": [],
   "source": [
    "data_dict.loc['Address']['Category']='Spatial/Temporal'\n",
    "data_dict.loc['Address']['Description']='Address of trap'\n",
    "data_dict.loc['Address']['Datatype'] = 'str'"
   ]
  },
  {
   "cell_type": "code",
   "execution_count": 38,
   "metadata": {},
   "outputs": [],
   "source": [
    "data_dict.loc['AddressAccuracy']['Category']='Spatial/Temporal'\n",
    "data_dict.loc['AddressAccuracy']['Description']='Accuracy of trap address'\n",
    "data_dict.loc['AddressAccuracy']['Datatype'] = 'str'"
   ]
  },
  {
   "cell_type": "markdown",
   "metadata": {},
   "source": [
    "Let's take a look at our dataframe and make sure it looks correct:"
   ]
  },
  {
   "cell_type": "code",
   "execution_count": 39,
   "metadata": {},
   "outputs": [
    {
     "data": {
      "text/html": [
       "<div>\n",
       "<style scoped>\n",
       "    .dataframe tbody tr th:only-of-type {\n",
       "        vertical-align: middle;\n",
       "    }\n",
       "\n",
       "    .dataframe tbody tr th {\n",
       "        vertical-align: top;\n",
       "    }\n",
       "\n",
       "    .dataframe thead th {\n",
       "        text-align: right;\n",
       "    }\n",
       "</style>\n",
       "<table border=\"1\" class=\"dataframe\">\n",
       "  <thead>\n",
       "    <tr style=\"text-align: right;\">\n",
       "      <th></th>\n",
       "      <th>Category</th>\n",
       "      <th>Description</th>\n",
       "      <th>Datatype</th>\n",
       "    </tr>\n",
       "  </thead>\n",
       "  <tbody>\n",
       "    <tr>\n",
       "      <th>Address</th>\n",
       "      <td>Spatial/Temporal</td>\n",
       "      <td>Address of trap</td>\n",
       "      <td>str</td>\n",
       "    </tr>\n",
       "    <tr>\n",
       "      <th>AddressAccuracy</th>\n",
       "      <td>Spatial/Temporal</td>\n",
       "      <td>Accuracy of trap address</td>\n",
       "      <td>str</td>\n",
       "    </tr>\n",
       "    <tr>\n",
       "      <th>AvgSpeed</th>\n",
       "      <td>Weather</td>\n",
       "      <td>Daily average wind speed (MPH)</td>\n",
       "      <td>float</td>\n",
       "    </tr>\n",
       "    <tr>\n",
       "      <th>Block</th>\n",
       "      <td>Spatial/Temporal</td>\n",
       "      <td>Aereal description, related to lat/long</td>\n",
       "      <td>int</td>\n",
       "    </tr>\n",
       "    <tr>\n",
       "      <th>Cool</th>\n",
       "      <td>Weather</td>\n",
       "      <td>Departure (in degrees) from 65 degree fahrenhe...</td>\n",
       "      <td>int</td>\n",
       "    </tr>\n",
       "    <tr>\n",
       "      <th>Date</th>\n",
       "      <td>Spatial/Temporal</td>\n",
       "      <td>Date in format YYYY-MM-DD)</td>\n",
       "      <td>datetime</td>\n",
       "    </tr>\n",
       "    <tr>\n",
       "      <th>Depart</th>\n",
       "      <td>Weather</td>\n",
       "      <td>Temp departure from historical normal</td>\n",
       "      <td>float</td>\n",
       "    </tr>\n",
       "    <tr>\n",
       "      <th>Depth</th>\n",
       "      <td>Weather</td>\n",
       "      <td>Depth of snowfall (in)</td>\n",
       "      <td>float</td>\n",
       "    </tr>\n",
       "    <tr>\n",
       "      <th>DewPoint</th>\n",
       "      <td>Weather</td>\n",
       "      <td>The temperature at which water condensates. A ...</td>\n",
       "      <td>float</td>\n",
       "    </tr>\n",
       "    <tr>\n",
       "      <th>DewPoint_roll</th>\n",
       "      <td>Weather</td>\n",
       "      <td>Rolling mean of dewpoint column</td>\n",
       "      <td>float</td>\n",
       "    </tr>\n",
       "    <tr>\n",
       "      <th>Heat</th>\n",
       "      <td>Weather</td>\n",
       "      <td>Departure (in degrees) from 65 degree fahrenhe...</td>\n",
       "      <td>int</td>\n",
       "    </tr>\n",
       "    <tr>\n",
       "      <th>Heat_roll_28</th>\n",
       "      <td>Weather</td>\n",
       "      <td>Rolling mean of \"heat\" column</td>\n",
       "      <td>int</td>\n",
       "    </tr>\n",
       "    <tr>\n",
       "      <th>Lat_int</th>\n",
       "      <td>Spatial/Temporal</td>\n",
       "      <td>Latitude of trap rounded to nearest integer</td>\n",
       "      <td>int</td>\n",
       "    </tr>\n",
       "    <tr>\n",
       "      <th>Long_int</th>\n",
       "      <td>Spatial/Temporal</td>\n",
       "      <td>Longitude of trap rounded to nearest integer</td>\n",
       "      <td>int</td>\n",
       "    </tr>\n",
       "    <tr>\n",
       "      <th>PrecipTotal</th>\n",
       "      <td>Weather</td>\n",
       "      <td>Amout of rainfall (in inches)</td>\n",
       "      <td>int</td>\n",
       "    </tr>\n",
       "    <tr>\n",
       "      <th>PrecipTotal_roll</th>\n",
       "      <td>Weather</td>\n",
       "      <td>Rolling average rainfall</td>\n",
       "      <td>int</td>\n",
       "    </tr>\n",
       "    <tr>\n",
       "      <th>ResultDir</th>\n",
       "      <td>Weather</td>\n",
       "      <td>Resultant wind direction (whole degress)</td>\n",
       "      <td>float</td>\n",
       "    </tr>\n",
       "    <tr>\n",
       "      <th>ResultSpeed</th>\n",
       "      <td>Weather</td>\n",
       "      <td>Resultant wind speed (vector sum of wind and d...</td>\n",
       "      <td>float</td>\n",
       "    </tr>\n",
       "    <tr>\n",
       "      <th>ResultSpeed_roll</th>\n",
       "      <td>Weather</td>\n",
       "      <td>Rolling mean of resultant wind speed</td>\n",
       "      <td>float</td>\n",
       "    </tr>\n",
       "    <tr>\n",
       "      <th>SeaLevel</th>\n",
       "      <td>Weather</td>\n",
       "      <td>Daily average sea level (feet)</td>\n",
       "      <td>int</td>\n",
       "    </tr>\n",
       "    <tr>\n",
       "      <th>SnowFall</th>\n",
       "      <td>Weather</td>\n",
       "      <td>Depth of snowfall (in)</td>\n",
       "      <td>float</td>\n",
       "    </tr>\n",
       "    <tr>\n",
       "      <th>Species</th>\n",
       "      <td>Spatial/Temporal</td>\n",
       "      <td>Species of mosquito</td>\n",
       "      <td>str</td>\n",
       "    </tr>\n",
       "    <tr>\n",
       "      <th>StnPressure</th>\n",
       "      <td>Weather</td>\n",
       "      <td>Daily average atmospheric pressure (inches/HG)</td>\n",
       "      <td>float</td>\n",
       "    </tr>\n",
       "    <tr>\n",
       "      <th>Street</th>\n",
       "      <td>Spatial/Temporal</td>\n",
       "      <td>Street address of mosquito trap</td>\n",
       "      <td>int</td>\n",
       "    </tr>\n",
       "    <tr>\n",
       "      <th>Sunrise</th>\n",
       "      <td>Weather</td>\n",
       "      <td>Time of sunrise (CST). Calculated, not observed.</td>\n",
       "      <td>int</td>\n",
       "    </tr>\n",
       "    <tr>\n",
       "      <th>Sunset</th>\n",
       "      <td>Weather</td>\n",
       "      <td>Time of sunset (CST). Calculated, not observed.</td>\n",
       "      <td>int</td>\n",
       "    </tr>\n",
       "    <tr>\n",
       "      <th>Tavg</th>\n",
       "      <td>Weather</td>\n",
       "      <td>Daily average temperature (farenheit)</td>\n",
       "      <td>int</td>\n",
       "    </tr>\n",
       "    <tr>\n",
       "      <th>Tmax</th>\n",
       "      <td>Weather</td>\n",
       "      <td>Maximum temperature for a given day (fahrenheit)</td>\n",
       "      <td>int</td>\n",
       "    </tr>\n",
       "    <tr>\n",
       "      <th>Tmax_roll</th>\n",
       "      <td>Weather</td>\n",
       "      <td>Maximum temperature rolling mean</td>\n",
       "      <td>int</td>\n",
       "    </tr>\n",
       "    <tr>\n",
       "      <th>Tmin</th>\n",
       "      <td>Weather</td>\n",
       "      <td>Minimum temperature for a given day (fahrenheit)</td>\n",
       "      <td>int</td>\n",
       "    </tr>\n",
       "    <tr>\n",
       "      <th>Tmin_roll</th>\n",
       "      <td>Weather</td>\n",
       "      <td>Minimum temperature rolling mean</td>\n",
       "      <td>int</td>\n",
       "    </tr>\n",
       "    <tr>\n",
       "      <th>Trap</th>\n",
       "      <td>Spatial/Temporal</td>\n",
       "      <td>Mosquito trap id</td>\n",
       "      <td>str</td>\n",
       "    </tr>\n",
       "    <tr>\n",
       "      <th>Water1</th>\n",
       "      <td>Weather</td>\n",
       "      <td>Depth of snowmelt (in)</td>\n",
       "      <td>float</td>\n",
       "    </tr>\n",
       "    <tr>\n",
       "      <th>WetBulb</th>\n",
       "      <td>Weather</td>\n",
       "      <td>Temperature recorded via wetbulb thermometer. ...</td>\n",
       "      <td>int</td>\n",
       "    </tr>\n",
       "  </tbody>\n",
       "</table>\n",
       "</div>"
      ],
      "text/plain": [
       "                          Category  \\\n",
       "Address           Spatial/Temporal   \n",
       "AddressAccuracy   Spatial/Temporal   \n",
       "AvgSpeed                   Weather   \n",
       "Block             Spatial/Temporal   \n",
       "Cool                       Weather   \n",
       "Date              Spatial/Temporal   \n",
       "Depart                     Weather   \n",
       "Depth                      Weather   \n",
       "DewPoint                   Weather   \n",
       "DewPoint_roll              Weather   \n",
       "Heat                       Weather   \n",
       "Heat_roll_28               Weather   \n",
       "Lat_int           Spatial/Temporal   \n",
       "Long_int          Spatial/Temporal   \n",
       "PrecipTotal                Weather   \n",
       "PrecipTotal_roll           Weather   \n",
       "ResultDir                  Weather   \n",
       "ResultSpeed                Weather   \n",
       "ResultSpeed_roll           Weather   \n",
       "SeaLevel                   Weather   \n",
       "SnowFall                   Weather   \n",
       "Species           Spatial/Temporal   \n",
       "StnPressure                Weather   \n",
       "Street            Spatial/Temporal   \n",
       "Sunrise                    Weather   \n",
       "Sunset                     Weather   \n",
       "Tavg                       Weather   \n",
       "Tmax                       Weather   \n",
       "Tmax_roll                  Weather   \n",
       "Tmin                       Weather   \n",
       "Tmin_roll                  Weather   \n",
       "Trap              Spatial/Temporal   \n",
       "Water1                     Weather   \n",
       "WetBulb                    Weather   \n",
       "\n",
       "                                                        Description  Datatype  \n",
       "Address                                             Address of trap       str  \n",
       "AddressAccuracy                            Accuracy of trap address       str  \n",
       "AvgSpeed                             Daily average wind speed (MPH)     float  \n",
       "Block                       Aereal description, related to lat/long       int  \n",
       "Cool              Departure (in degrees) from 65 degree fahrenhe...       int  \n",
       "Date                                     Date in format YYYY-MM-DD)  datetime  \n",
       "Depart                        Temp departure from historical normal     float  \n",
       "Depth                                        Depth of snowfall (in)     float  \n",
       "DewPoint          The temperature at which water condensates. A ...     float  \n",
       "DewPoint_roll                       Rolling mean of dewpoint column     float  \n",
       "Heat              Departure (in degrees) from 65 degree fahrenhe...       int  \n",
       "Heat_roll_28                          Rolling mean of \"heat\" column       int  \n",
       "Lat_int                 Latitude of trap rounded to nearest integer       int  \n",
       "Long_int               Longitude of trap rounded to nearest integer       int  \n",
       "PrecipTotal                           Amout of rainfall (in inches)       int  \n",
       "PrecipTotal_roll                           Rolling average rainfall       int  \n",
       "ResultDir                  Resultant wind direction (whole degress)     float  \n",
       "ResultSpeed       Resultant wind speed (vector sum of wind and d...     float  \n",
       "ResultSpeed_roll               Rolling mean of resultant wind speed     float  \n",
       "SeaLevel                             Daily average sea level (feet)       int  \n",
       "SnowFall                                     Depth of snowfall (in)     float  \n",
       "Species                                         Species of mosquito       str  \n",
       "StnPressure          Daily average atmospheric pressure (inches/HG)     float  \n",
       "Street                              Street address of mosquito trap       int  \n",
       "Sunrise            Time of sunrise (CST). Calculated, not observed.       int  \n",
       "Sunset              Time of sunset (CST). Calculated, not observed.       int  \n",
       "Tavg                          Daily average temperature (farenheit)       int  \n",
       "Tmax               Maximum temperature for a given day (fahrenheit)       int  \n",
       "Tmax_roll                          Maximum temperature rolling mean       int  \n",
       "Tmin               Minimum temperature for a given day (fahrenheit)       int  \n",
       "Tmin_roll                          Minimum temperature rolling mean       int  \n",
       "Trap                                               Mosquito trap id       str  \n",
       "Water1                                       Depth of snowmelt (in)     float  \n",
       "WetBulb           Temperature recorded via wetbulb thermometer. ...       int  "
      ]
     },
     "execution_count": 39,
     "metadata": {},
     "output_type": "execute_result"
    }
   ],
   "source": [
    "data_dict"
   ]
  },
  {
   "cell_type": "markdown",
   "metadata": {},
   "source": [
    "All set! We'll save this as a csv so it can be imported into any one of our other notebooks in case we want to look up a particular feature."
   ]
  },
  {
   "cell_type": "code",
   "execution_count": 40,
   "metadata": {},
   "outputs": [],
   "source": [
    "data_dict.to_csv('../data/data_dict.csv')"
   ]
  }
 ],
 "metadata": {
  "kernelspec": {
   "display_name": "Python 3",
   "language": "python",
   "name": "python3"
  },
  "language_info": {
   "codemirror_mode": {
    "name": "ipython",
    "version": 3
   },
   "file_extension": ".py",
   "mimetype": "text/x-python",
   "name": "python",
   "nbconvert_exporter": "python",
   "pygments_lexer": "ipython3",
   "version": "3.6.5"
  }
 },
 "nbformat": 4,
 "nbformat_minor": 2
}
